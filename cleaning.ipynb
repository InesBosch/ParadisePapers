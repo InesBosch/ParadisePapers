{
 "metadata": {
  "language_info": {
   "codemirror_mode": {
    "name": "ipython",
    "version": 3
   },
   "file_extension": ".py",
   "mimetype": "text/x-python",
   "name": "python",
   "nbconvert_exporter": "python",
   "pygments_lexer": "ipython3",
   "version": "3.8.3-final"
  },
  "orig_nbformat": 2,
  "kernelspec": {
   "name": "python38364bitdf10a5cc768648019f0ccbade6eb1d3f",
   "display_name": "Python 3.8.3 64-bit"
  }
 },
 "nbformat": 4,
 "nbformat_minor": 2,
 "cells": [
  {
   "source": [
    "# Cleaning the datasets\n",
    "\n",
    "We must remove rows with null values in certain columns, since they will not help us in answering our questions and they do not fit our schema. Furthermore, we must shuffle some of the datasets. This is because the UofT CS server cannot handle very large files, so we will have to limit the number of tuples to around 10000. Without the shuffling, our reduced dataset would be skewed (since it is currently sorted by alphabetical order in some cases)."
   ],
   "cell_type": "markdown",
   "metadata": {}
  },
  {
   "cell_type": "code",
   "execution_count": 2,
   "metadata": {},
   "outputs": [
    {
     "output_type": "execute_result",
     "data": {
      "text/plain": [
       "        oID             oName  cID\n",
       "0  59160036  RADOMIR VUKCEVIC  NaN\n",
       "1  59178341     ANA DUKANOVIC  NaN\n",
       "2  59190179     ANA KOLAREVIC  NaN\n",
       "3  59152278         Ranin Ltd  NaN\n",
       "4  59127837   DAVID MARINELLI  NaN"
      ],
      "text/html": "<div>\n<style scoped>\n    .dataframe tbody tr th:only-of-type {\n        vertical-align: middle;\n    }\n\n    .dataframe tbody tr th {\n        vertical-align: top;\n    }\n\n    .dataframe thead th {\n        text-align: right;\n    }\n</style>\n<table border=\"1\" class=\"dataframe\">\n  <thead>\n    <tr style=\"text-align: right;\">\n      <th></th>\n      <th>oID</th>\n      <th>oName</th>\n      <th>cID</th>\n    </tr>\n  </thead>\n  <tbody>\n    <tr>\n      <th>0</th>\n      <td>59160036</td>\n      <td>RADOMIR VUKCEVIC</td>\n      <td>NaN</td>\n    </tr>\n    <tr>\n      <th>1</th>\n      <td>59178341</td>\n      <td>ANA DUKANOVIC</td>\n      <td>NaN</td>\n    </tr>\n    <tr>\n      <th>2</th>\n      <td>59190179</td>\n      <td>ANA KOLAREVIC</td>\n      <td>NaN</td>\n    </tr>\n    <tr>\n      <th>3</th>\n      <td>59152278</td>\n      <td>Ranin Ltd</td>\n      <td>NaN</td>\n    </tr>\n    <tr>\n      <th>4</th>\n      <td>59127837</td>\n      <td>DAVID MARINELLI</td>\n      <td>NaN</td>\n    </tr>\n  </tbody>\n</table>\n</div>"
     },
     "metadata": {},
     "execution_count": 2
    }
   ],
   "source": [
    "import numpy as np\n",
    "import pandas as pd\n",
    "\n",
    "#Let's start by cleaning the officer dataset\n",
    "\n",
    "officerDF = pd.read_csv(\"./raw-data/paradise_papers.nodes.officer.csv\")\n",
    "\n",
    "officerDF.head()"
   ]
  },
  {
   "cell_type": "code",
   "execution_count": 34,
   "metadata": {},
   "outputs": [
    {
     "output_type": "execute_result",
     "data": {
      "text/plain": [
       "         oID                                 oName  cID\n",
       "51  39062322                    SANTOS JUAN MANUEL  COL\n",
       "91  84100000                        Ibrahim Mahama  GHA\n",
       "92  84100001  Engineers & Planners Company Limited  GHA\n",
       "93  84100002                        Yukio Hatoyama  JPN\n",
       "94  84100003                The Duchy of Lancaster  GBR"
      ],
      "text/html": "<div>\n<style scoped>\n    .dataframe tbody tr th:only-of-type {\n        vertical-align: middle;\n    }\n\n    .dataframe tbody tr th {\n        vertical-align: top;\n    }\n\n    .dataframe thead th {\n        text-align: right;\n    }\n</style>\n<table border=\"1\" class=\"dataframe\">\n  <thead>\n    <tr style=\"text-align: right;\">\n      <th></th>\n      <th>oID</th>\n      <th>oName</th>\n      <th>cID</th>\n    </tr>\n  </thead>\n  <tbody>\n    <tr>\n      <th>51</th>\n      <td>39062322</td>\n      <td>SANTOS JUAN MANUEL</td>\n      <td>COL</td>\n    </tr>\n    <tr>\n      <th>91</th>\n      <td>84100000</td>\n      <td>Ibrahim Mahama</td>\n      <td>GHA</td>\n    </tr>\n    <tr>\n      <th>92</th>\n      <td>84100001</td>\n      <td>Engineers &amp; Planners Company Limited</td>\n      <td>GHA</td>\n    </tr>\n    <tr>\n      <th>93</th>\n      <td>84100002</td>\n      <td>Yukio Hatoyama</td>\n      <td>JPN</td>\n    </tr>\n    <tr>\n      <th>94</th>\n      <td>84100003</td>\n      <td>The Duchy of Lancaster</td>\n      <td>GBR</td>\n    </tr>\n  </tbody>\n</table>\n</div>"
     },
     "metadata": {},
     "execution_count": 34
    }
   ],
   "source": [
    "#Remove tuples/rows that do not contain country IDs\n",
    "officerDF = officerDF.dropna(axis=0, subset=['cID'])\n",
    "\n",
    "officerDF.head()"
   ]
  },
  {
   "cell_type": "code",
   "execution_count": 35,
   "metadata": {},
   "outputs": [],
   "source": [
    "#Reduce size (CS teaching labs can handle 1000 rows well but not much more)\n",
    "officerDF = officerDF.sample(frac=0.006)\n",
    "\n",
    "#Export clean dataset \n",
    "officerDF.to_csv(r'C:\\Users\\00mon\\VSCode\\paradise-papers\\clean-data\\Officer.csv',index = False)"
   ]
  },
  {
   "cell_type": "code",
   "execution_count": 36,
   "metadata": {},
   "outputs": [
    {
     "output_type": "execute_result",
     "data": {
      "text/plain": [
       "        eID                                       eName  ... Unnamed: 7  Unnamed: 8\n",
       "0  85004927                                       OCEAN  ...        NaN         NaN\n",
       "1  85004928                     EFFICIENCY IN OPERATION  ...        NaN         NaN\n",
       "2  85004930                    ARUBA WATER SYSTEMS N.V.  ...        NaN         NaN\n",
       "3  85008431                                   ESSA N.V.  ...        NaN         NaN\n",
       "4  85008432  FIRST HOME INSURANCE SERVICES (ARUBA) N.V.  ...        NaN         NaN\n",
       "\n",
       "[5 rows x 9 columns]"
      ],
      "text/html": "<div>\n<style scoped>\n    .dataframe tbody tr th:only-of-type {\n        vertical-align: middle;\n    }\n\n    .dataframe tbody tr th {\n        vertical-align: top;\n    }\n\n    .dataframe thead th {\n        text-align: right;\n    }\n</style>\n<table border=\"1\" class=\"dataframe\">\n  <thead>\n    <tr style=\"text-align: right;\">\n      <th></th>\n      <th>eID</th>\n      <th>eName</th>\n      <th>jurisdictionID</th>\n      <th>Unnamed: 3</th>\n      <th>Unnamed: 4</th>\n      <th>Unnamed: 5</th>\n      <th>Unnamed: 6</th>\n      <th>Unnamed: 7</th>\n      <th>Unnamed: 8</th>\n    </tr>\n  </thead>\n  <tbody>\n    <tr>\n      <th>0</th>\n      <td>85004927</td>\n      <td>OCEAN</td>\n      <td>AW</td>\n      <td>NaN</td>\n      <td>NaN</td>\n      <td>NaN</td>\n      <td>NaN</td>\n      <td>NaN</td>\n      <td>NaN</td>\n    </tr>\n    <tr>\n      <th>1</th>\n      <td>85004928</td>\n      <td>EFFICIENCY IN OPERATION</td>\n      <td>AW</td>\n      <td>NaN</td>\n      <td>NaN</td>\n      <td>NaN</td>\n      <td>NaN</td>\n      <td>NaN</td>\n      <td>NaN</td>\n    </tr>\n    <tr>\n      <th>2</th>\n      <td>85004930</td>\n      <td>ARUBA WATER SYSTEMS N.V.</td>\n      <td>AW</td>\n      <td>NaN</td>\n      <td>NaN</td>\n      <td>NaN</td>\n      <td>NaN</td>\n      <td>NaN</td>\n      <td>NaN</td>\n    </tr>\n    <tr>\n      <th>3</th>\n      <td>85008431</td>\n      <td>ESSA N.V.</td>\n      <td>AW</td>\n      <td>NaN</td>\n      <td>NaN</td>\n      <td>NaN</td>\n      <td>NaN</td>\n      <td>NaN</td>\n      <td>NaN</td>\n    </tr>\n    <tr>\n      <th>4</th>\n      <td>85008432</td>\n      <td>FIRST HOME INSURANCE SERVICES (ARUBA) N.V.</td>\n      <td>AW</td>\n      <td>NaN</td>\n      <td>NaN</td>\n      <td>NaN</td>\n      <td>NaN</td>\n      <td>NaN</td>\n      <td>NaN</td>\n    </tr>\n  </tbody>\n</table>\n</div>"
     },
     "metadata": {},
     "execution_count": 36
    }
   ],
   "source": [
    "entityDF = pd.read_csv(\"./raw-data/paradise_papers.nodes.entity.csv\")\n",
    "\n",
    "entityDF.head()"
   ]
  },
  {
   "cell_type": "code",
   "execution_count": 37,
   "metadata": {},
   "outputs": [
    {
     "output_type": "execute_result",
     "data": {
      "text/plain": [
       "        eID                                       eName jurisdictionID\n",
       "0  85004927                                       OCEAN             AW\n",
       "1  85004928                     EFFICIENCY IN OPERATION             AW\n",
       "2  85004930                    ARUBA WATER SYSTEMS N.V.             AW\n",
       "3  85008431                                   ESSA N.V.             AW\n",
       "4  85008432  FIRST HOME INSURANCE SERVICES (ARUBA) N.V.             AW"
      ],
      "text/html": "<div>\n<style scoped>\n    .dataframe tbody tr th:only-of-type {\n        vertical-align: middle;\n    }\n\n    .dataframe tbody tr th {\n        vertical-align: top;\n    }\n\n    .dataframe thead th {\n        text-align: right;\n    }\n</style>\n<table border=\"1\" class=\"dataframe\">\n  <thead>\n    <tr style=\"text-align: right;\">\n      <th></th>\n      <th>eID</th>\n      <th>eName</th>\n      <th>jurisdictionID</th>\n    </tr>\n  </thead>\n  <tbody>\n    <tr>\n      <th>0</th>\n      <td>85004927</td>\n      <td>OCEAN</td>\n      <td>AW</td>\n    </tr>\n    <tr>\n      <th>1</th>\n      <td>85004928</td>\n      <td>EFFICIENCY IN OPERATION</td>\n      <td>AW</td>\n    </tr>\n    <tr>\n      <th>2</th>\n      <td>85004930</td>\n      <td>ARUBA WATER SYSTEMS N.V.</td>\n      <td>AW</td>\n    </tr>\n    <tr>\n      <th>3</th>\n      <td>85008431</td>\n      <td>ESSA N.V.</td>\n      <td>AW</td>\n    </tr>\n    <tr>\n      <th>4</th>\n      <td>85008432</td>\n      <td>FIRST HOME INSURANCE SERVICES (ARUBA) N.V.</td>\n      <td>AW</td>\n    </tr>\n  </tbody>\n</table>\n</div>"
     },
     "metadata": {},
     "execution_count": 37
    }
   ],
   "source": [
    "entityDF = entityDF[['eID','eName','jurisdictionID']]\n",
    "\n",
    "entityDF = entityDF.dropna(axis=0, subset=['jurisdictionID'])\n",
    "\n",
    "entityDF.head()"
   ]
  },
  {
   "cell_type": "code",
   "execution_count": 38,
   "metadata": {},
   "outputs": [
    {
     "output_type": "execute_result",
     "data": {
      "text/plain": [
       "              eID                          eName jurisdictionID\n",
       "70480    85046725           BOTANICA LA BUENA FE             AW\n",
       "29995    85001677     CROES BUSINESS CORPORATION             AW\n",
       "143072  200110458               HIGH PLAINS INC.            KNA\n",
       "137350  200104728  RED SANDS INVESTMENTS LIMITED            KNA\n",
       "150263  200117684                    TIAHMA LTD.            KNA"
      ],
      "text/html": "<div>\n<style scoped>\n    .dataframe tbody tr th:only-of-type {\n        vertical-align: middle;\n    }\n\n    .dataframe tbody tr th {\n        vertical-align: top;\n    }\n\n    .dataframe thead th {\n        text-align: right;\n    }\n</style>\n<table border=\"1\" class=\"dataframe\">\n  <thead>\n    <tr style=\"text-align: right;\">\n      <th></th>\n      <th>eID</th>\n      <th>eName</th>\n      <th>jurisdictionID</th>\n    </tr>\n  </thead>\n  <tbody>\n    <tr>\n      <th>70480</th>\n      <td>85046725</td>\n      <td>BOTANICA LA BUENA FE</td>\n      <td>AW</td>\n    </tr>\n    <tr>\n      <th>29995</th>\n      <td>85001677</td>\n      <td>CROES BUSINESS CORPORATION</td>\n      <td>AW</td>\n    </tr>\n    <tr>\n      <th>143072</th>\n      <td>200110458</td>\n      <td>HIGH PLAINS INC.</td>\n      <td>KNA</td>\n    </tr>\n    <tr>\n      <th>137350</th>\n      <td>200104728</td>\n      <td>RED SANDS INVESTMENTS LIMITED</td>\n      <td>KNA</td>\n    </tr>\n    <tr>\n      <th>150263</th>\n      <td>200117684</td>\n      <td>TIAHMA LTD.</td>\n      <td>KNA</td>\n    </tr>\n  </tbody>\n</table>\n</div>"
     },
     "metadata": {},
     "execution_count": 38
    }
   ],
   "source": [
    "#Need to shuffle entity dataset since it is sorted with jurisdiction in alphabetical order\n",
    "\n",
    "entityDF = entityDF.sample(frac=0.003)\n",
    "\n",
    "entityDF.to_csv(r'C:\\Users\\00mon\\VSCode\\paradise-papers\\clean-data\\Entity.csv',index = False)\n",
    "\n",
    "entityDF.head()"
   ]
  },
  {
   "cell_type": "code",
   "execution_count": 39,
   "metadata": {},
   "outputs": [],
   "source": [
    "#Clean intermediary dataset\n",
    "\n",
    "interDF = pd.read_csv(\"./raw-data/paradise_papers.nodes.intermediary.csv\")\n",
    "\n",
    "interDF = interDF.dropna(axis=0, subset=['cID'])\n",
    "\n",
    "#Export clean dataset \n",
    "interDF.to_csv(r'C:\\Users\\00mon\\VSCode\\paradise-papers\\clean-data\\Intermediary.csv',index = False)\n"
   ]
  },
  {
   "cell_type": "code",
   "execution_count": 40,
   "metadata": {},
   "outputs": [
    {
     "output_type": "execute_result",
     "data": {
      "text/plain": [
       "        iID                                     iName  cID\n",
       "0  34304771               CITITRUST (BAHAMAS) LIMITED  BHS\n",
       "1  80000189         Appleby Management (Bermuda) Ltd.  BMU\n",
       "2  80000191           Appleby Services (Bermuda) Ltd.  BMU\n",
       "3  80000392  Appleby Corporate Services (BVI) Limited  VGB\n",
       "4  80007709   Appleby Corporate Services (HK) Limited  HKG"
      ],
      "text/html": "<div>\n<style scoped>\n    .dataframe tbody tr th:only-of-type {\n        vertical-align: middle;\n    }\n\n    .dataframe tbody tr th {\n        vertical-align: top;\n    }\n\n    .dataframe thead th {\n        text-align: right;\n    }\n</style>\n<table border=\"1\" class=\"dataframe\">\n  <thead>\n    <tr style=\"text-align: right;\">\n      <th></th>\n      <th>iID</th>\n      <th>iName</th>\n      <th>cID</th>\n    </tr>\n  </thead>\n  <tbody>\n    <tr>\n      <th>0</th>\n      <td>34304771</td>\n      <td>CITITRUST (BAHAMAS) LIMITED</td>\n      <td>BHS</td>\n    </tr>\n    <tr>\n      <th>1</th>\n      <td>80000189</td>\n      <td>Appleby Management (Bermuda) Ltd.</td>\n      <td>BMU</td>\n    </tr>\n    <tr>\n      <th>2</th>\n      <td>80000191</td>\n      <td>Appleby Services (Bermuda) Ltd.</td>\n      <td>BMU</td>\n    </tr>\n    <tr>\n      <th>3</th>\n      <td>80000392</td>\n      <td>Appleby Corporate Services (BVI) Limited</td>\n      <td>VGB</td>\n    </tr>\n    <tr>\n      <th>4</th>\n      <td>80007709</td>\n      <td>Appleby Corporate Services (HK) Limited</td>\n      <td>HKG</td>\n    </tr>\n  </tbody>\n</table>\n</div>"
     },
     "metadata": {},
     "execution_count": 40
    }
   ],
   "source": [
    "interDF.head()"
   ]
  },
  {
   "cell_type": "code",
   "execution_count": 44,
   "metadata": {},
   "outputs": [],
   "source": [
    "#Clean human development index dataset\n",
    "\n",
    "hdiDF = pd.read_csv(\"./raw-data/Human development index (HDI).csv\")\n",
    "\n",
    "hdiDF = hdiDF[['hdiRank','cName']]\n",
    "\n",
    "#Export clean dataset \n",
    "hdiDF.to_csv(r'C:\\Users\\00mon\\VSCode\\paradise-papers\\clean-data\\HumanDevelopment.csv',index = False)\n"
   ]
  },
  {
   "cell_type": "code",
   "execution_count": 41,
   "metadata": {},
   "outputs": [
    {
     "output_type": "execute_result",
     "data": {
      "text/plain": [
       "   hdiRank        cName\n",
       "0      170  Afghanistan\n",
       "1       69      Albania\n",
       "2       82      Algeria\n",
       "3       36      Andorra\n",
       "4      149       Angola"
      ],
      "text/html": "<div>\n<style scoped>\n    .dataframe tbody tr th:only-of-type {\n        vertical-align: middle;\n    }\n\n    .dataframe tbody tr th {\n        vertical-align: top;\n    }\n\n    .dataframe thead th {\n        text-align: right;\n    }\n</style>\n<table border=\"1\" class=\"dataframe\">\n  <thead>\n    <tr style=\"text-align: right;\">\n      <th></th>\n      <th>hdiRank</th>\n      <th>cName</th>\n    </tr>\n  </thead>\n  <tbody>\n    <tr>\n      <th>0</th>\n      <td>170</td>\n      <td>Afghanistan</td>\n    </tr>\n    <tr>\n      <th>1</th>\n      <td>69</td>\n      <td>Albania</td>\n    </tr>\n    <tr>\n      <th>2</th>\n      <td>82</td>\n      <td>Algeria</td>\n    </tr>\n    <tr>\n      <th>3</th>\n      <td>36</td>\n      <td>Andorra</td>\n    </tr>\n    <tr>\n      <th>4</th>\n      <td>149</td>\n      <td>Angola</td>\n    </tr>\n  </tbody>\n</table>\n</div>"
     },
     "metadata": {},
     "execution_count": 41
    }
   ],
   "source": [
    "hdiDF.head()"
   ]
  },
  {
   "cell_type": "code",
   "execution_count": 45,
   "metadata": {},
   "outputs": [],
   "source": [
    "corruptDF = pd.read_csv(\"./raw-data/corruption_perception.csv\")\n",
    "\n",
    "corruptDF = corruptDF[['cID','cpindex']]\n",
    "\n",
    "#Export clean dataset \n",
    "corruptDF.to_csv(r'C:\\Users\\00mon\\VSCode\\paradise-papers\\clean-data\\CorruptionPerception.csv',index = False)"
   ]
  },
  {
   "cell_type": "code",
   "execution_count": 46,
   "metadata": {},
   "outputs": [
    {
     "output_type": "execute_result",
     "data": {
      "text/plain": [
       "   cID  cpindex\n",
       "0  DNK       88\n",
       "1  NZL       87\n",
       "2  FIN       85\n",
       "3  SGP       85\n",
       "4  SWE       85"
      ],
      "text/html": "<div>\n<style scoped>\n    .dataframe tbody tr th:only-of-type {\n        vertical-align: middle;\n    }\n\n    .dataframe tbody tr th {\n        vertical-align: top;\n    }\n\n    .dataframe thead th {\n        text-align: right;\n    }\n</style>\n<table border=\"1\" class=\"dataframe\">\n  <thead>\n    <tr style=\"text-align: right;\">\n      <th></th>\n      <th>cID</th>\n      <th>cpindex</th>\n    </tr>\n  </thead>\n  <tbody>\n    <tr>\n      <th>0</th>\n      <td>DNK</td>\n      <td>88</td>\n    </tr>\n    <tr>\n      <th>1</th>\n      <td>NZL</td>\n      <td>87</td>\n    </tr>\n    <tr>\n      <th>2</th>\n      <td>FIN</td>\n      <td>85</td>\n    </tr>\n    <tr>\n      <th>3</th>\n      <td>SGP</td>\n      <td>85</td>\n    </tr>\n    <tr>\n      <th>4</th>\n      <td>SWE</td>\n      <td>85</td>\n    </tr>\n  </tbody>\n</table>\n</div>"
     },
     "metadata": {},
     "execution_count": 46
    }
   ],
   "source": [
    "corruptDF.head()"
   ]
  },
  {
   "cell_type": "code",
   "execution_count": 7,
   "metadata": {},
   "outputs": [],
   "source": [
    "#For country dataset, must merge dataset that contains population and the one that contains the ISO alpha-3 codes\n",
    "popDF = pd.read_csv(\"./raw-data/population.csv\")\n",
    "\n",
    "countryDF = pd.read_csv(\"./raw-data/country.csv\")\n",
    "\n",
    "completeCountryDF = pd.merge(countryDF, popDF, how='inner', on='cName')\n",
    "\n",
    "completeCountryDF = completeCountryDF[['cName','cID','population']]\n",
    "\n",
    "completeCountryDF.to_csv(r'C:\\Users\\00mon\\VSCode\\paradise-papers\\clean-data\\Country.csv',index = False)"
   ]
  },
  {
   "cell_type": "code",
   "execution_count": 8,
   "metadata": {},
   "outputs": [
    {
     "output_type": "execute_result",
     "data": {
      "text/plain": [
       "                    cName  cID  population\n",
       "0                   Aruba   AW     106.766\n",
       "1                  Jersey  JEY      98.070\n",
       "2  British Virgin Islands  VGB      30.231\n",
       "3          Cayman Islands   KY      65.722\n",
       "4   Saint Kitts and Nevis  KNA      53.199"
      ],
      "text/html": "<div>\n<style scoped>\n    .dataframe tbody tr th:only-of-type {\n        vertical-align: middle;\n    }\n\n    .dataframe tbody tr th {\n        vertical-align: top;\n    }\n\n    .dataframe thead th {\n        text-align: right;\n    }\n</style>\n<table border=\"1\" class=\"dataframe\">\n  <thead>\n    <tr style=\"text-align: right;\">\n      <th></th>\n      <th>cName</th>\n      <th>cID</th>\n      <th>population</th>\n    </tr>\n  </thead>\n  <tbody>\n    <tr>\n      <th>0</th>\n      <td>Aruba</td>\n      <td>AW</td>\n      <td>106.766</td>\n    </tr>\n    <tr>\n      <th>1</th>\n      <td>Jersey</td>\n      <td>JEY</td>\n      <td>98.070</td>\n    </tr>\n    <tr>\n      <th>2</th>\n      <td>British Virgin Islands</td>\n      <td>VGB</td>\n      <td>30.231</td>\n    </tr>\n    <tr>\n      <th>3</th>\n      <td>Cayman Islands</td>\n      <td>KY</td>\n      <td>65.722</td>\n    </tr>\n    <tr>\n      <th>4</th>\n      <td>Saint Kitts and Nevis</td>\n      <td>KNA</td>\n      <td>53.199</td>\n    </tr>\n  </tbody>\n</table>\n</div>"
     },
     "metadata": {},
     "execution_count": 8
    }
   ],
   "source": [
    "completeCountryDF.head()"
   ]
  }
 ]
}