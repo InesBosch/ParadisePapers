{
 "metadata": {
  "language_info": {
   "codemirror_mode": {
    "name": "ipython",
    "version": 3
   },
   "file_extension": ".py",
   "mimetype": "text/x-python",
   "name": "python",
   "nbconvert_exporter": "python",
   "pygments_lexer": "ipython3",
   "version": "3.8.3-final"
  },
  "orig_nbformat": 2,
  "kernelspec": {
   "name": "python38364bitdf10a5cc768648019f0ccbade6eb1d3f",
   "display_name": "Python 3.8.3 64-bit"
  }
 },
 "nbformat": 4,
 "nbformat_minor": 2,
 "cells": [
  {
   "source": [
    "# Cleaning the datasets\n",
    "\n",
    "We must remove rows with null values in certain columns, since they will not help us in answering our questions and they do not fit our schema. Furthermore, we must shuffle some of the datasets. This is because the UofT CS server cannot handle very large files, so we will have to limit the number of tuples to around 40000. Without the shuffling, our reduced dataset would be skewed (since it is currently sorted by alphabetical order in some cases)."
   ],
   "cell_type": "markdown",
   "metadata": {}
  },
  {
   "cell_type": "code",
   "execution_count": 1,
   "metadata": {},
   "outputs": [
    {
     "output_type": "execute_result",
     "data": {
      "text/plain": [
       "        oID             oName  cID\n",
       "0  59160036  RADOMIR VUKCEVIC  NaN\n",
       "1  59178341     ANA DUKANOVIC  NaN\n",
       "2  59190179     ANA KOLAREVIC  NaN\n",
       "3  59152278         Ranin Ltd  NaN\n",
       "4  59127837   DAVID MARINELLI  NaN"
      ],
      "text/html": "<div>\n<style scoped>\n    .dataframe tbody tr th:only-of-type {\n        vertical-align: middle;\n    }\n\n    .dataframe tbody tr th {\n        vertical-align: top;\n    }\n\n    .dataframe thead th {\n        text-align: right;\n    }\n</style>\n<table border=\"1\" class=\"dataframe\">\n  <thead>\n    <tr style=\"text-align: right;\">\n      <th></th>\n      <th>oID</th>\n      <th>oName</th>\n      <th>cID</th>\n    </tr>\n  </thead>\n  <tbody>\n    <tr>\n      <th>0</th>\n      <td>59160036</td>\n      <td>RADOMIR VUKCEVIC</td>\n      <td>NaN</td>\n    </tr>\n    <tr>\n      <th>1</th>\n      <td>59178341</td>\n      <td>ANA DUKANOVIC</td>\n      <td>NaN</td>\n    </tr>\n    <tr>\n      <th>2</th>\n      <td>59190179</td>\n      <td>ANA KOLAREVIC</td>\n      <td>NaN</td>\n    </tr>\n    <tr>\n      <th>3</th>\n      <td>59152278</td>\n      <td>Ranin Ltd</td>\n      <td>NaN</td>\n    </tr>\n    <tr>\n      <th>4</th>\n      <td>59127837</td>\n      <td>DAVID MARINELLI</td>\n      <td>NaN</td>\n    </tr>\n  </tbody>\n</table>\n</div>"
     },
     "metadata": {},
     "execution_count": 1
    }
   ],
   "source": [
    "import numpy as np\n",
    "import pandas as pd\n",
    "\n",
    "#Let's start by cleaning the officer dataset\n",
    "\n",
    "officerDF = pd.read_csv(\"./raw-data/paradise_papers.nodes.officer.csv\")\n",
    "\n",
    "officerDF.head()"
   ]
  },
  {
   "cell_type": "code",
   "execution_count": 6,
   "metadata": {},
   "outputs": [
    {
     "output_type": "execute_result",
     "data": {
      "text/plain": [
       "             oID                   oName  cID\n",
       "5076    80042957              Burt - Kay  GBR\n",
       "284031  56043300           SILVIA ATTARD  MLT\n",
       "326819  56092311  JACEK KRZYSZTOF BLADEK  POL\n",
       "256002  56019521     CATLIN CAPITAL LTD.  VGB\n",
       "239598  56001470          CORINNE VIOGET  CHE"
      ],
      "text/html": "<div>\n<style scoped>\n    .dataframe tbody tr th:only-of-type {\n        vertical-align: middle;\n    }\n\n    .dataframe tbody tr th {\n        vertical-align: top;\n    }\n\n    .dataframe thead th {\n        text-align: right;\n    }\n</style>\n<table border=\"1\" class=\"dataframe\">\n  <thead>\n    <tr style=\"text-align: right;\">\n      <th></th>\n      <th>oID</th>\n      <th>oName</th>\n      <th>cID</th>\n    </tr>\n  </thead>\n  <tbody>\n    <tr>\n      <th>5076</th>\n      <td>80042957</td>\n      <td>Burt - Kay</td>\n      <td>GBR</td>\n    </tr>\n    <tr>\n      <th>284031</th>\n      <td>56043300</td>\n      <td>SILVIA ATTARD</td>\n      <td>MLT</td>\n    </tr>\n    <tr>\n      <th>326819</th>\n      <td>56092311</td>\n      <td>JACEK KRZYSZTOF BLADEK</td>\n      <td>POL</td>\n    </tr>\n    <tr>\n      <th>256002</th>\n      <td>56019521</td>\n      <td>CATLIN CAPITAL LTD.</td>\n      <td>VGB</td>\n    </tr>\n    <tr>\n      <th>239598</th>\n      <td>56001470</td>\n      <td>CORINNE VIOGET</td>\n      <td>CHE</td>\n    </tr>\n  </tbody>\n</table>\n</div>"
     },
     "metadata": {},
     "execution_count": 6
    }
   ],
   "source": [
    "#Remove tuples/rows that do not contain country IDs\n",
    "officerDF = officerDF.dropna(axis=0, subset=['cID'])\n",
    "\n",
    "officerDF = officerDF[officerDF['cID'].map(len) < 4]\n",
    "\n",
    "officerDF.head()"
   ]
  },
  {
   "cell_type": "code",
   "execution_count": 62,
   "metadata": {},
   "outputs": [],
   "source": [
    "#Reduce size (CS teaching labs can handle 1000 rows well but not much more)\n",
    "officerDF = officerDF.sample(frac=0.3)\n",
    "\n",
    "officerDF = officerDF[officerDF['oName'].map(len) < 100]\n",
    "\n",
    "#Export clean dataset \n",
    "officerDF.to_csv(r'C:\\Users\\00mon\\VSCode\\paradise-papers\\clean-data\\Officer.csv',index = False)"
   ]
  },
  {
   "cell_type": "code",
   "execution_count": 63,
   "metadata": {},
   "outputs": [
    {
     "output_type": "execute_result",
     "data": {
      "text/plain": [
       "        eID                                       eName jurisdictionID  \\\n",
       "0  85004927                                       OCEAN             AW   \n",
       "1  85004928                     EFFICIENCY IN OPERATION             AW   \n",
       "2  85004930                    ARUBA WATER SYSTEMS N.V.             AW   \n",
       "3  85008431                                   ESSA N.V.             AW   \n",
       "4  85008432  FIRST HOME INSURANCE SERVICES (ARUBA) N.V.             AW   \n",
       "\n",
       "   Unnamed: 3  Unnamed: 4  Unnamed: 5  Unnamed: 6  Unnamed: 7  Unnamed: 8  \n",
       "0         NaN         NaN         NaN         NaN         NaN         NaN  \n",
       "1         NaN         NaN         NaN         NaN         NaN         NaN  \n",
       "2         NaN         NaN         NaN         NaN         NaN         NaN  \n",
       "3         NaN         NaN         NaN         NaN         NaN         NaN  \n",
       "4         NaN         NaN         NaN         NaN         NaN         NaN  "
      ],
      "text/html": "<div>\n<style scoped>\n    .dataframe tbody tr th:only-of-type {\n        vertical-align: middle;\n    }\n\n    .dataframe tbody tr th {\n        vertical-align: top;\n    }\n\n    .dataframe thead th {\n        text-align: right;\n    }\n</style>\n<table border=\"1\" class=\"dataframe\">\n  <thead>\n    <tr style=\"text-align: right;\">\n      <th></th>\n      <th>eID</th>\n      <th>eName</th>\n      <th>jurisdictionID</th>\n      <th>Unnamed: 3</th>\n      <th>Unnamed: 4</th>\n      <th>Unnamed: 5</th>\n      <th>Unnamed: 6</th>\n      <th>Unnamed: 7</th>\n      <th>Unnamed: 8</th>\n    </tr>\n  </thead>\n  <tbody>\n    <tr>\n      <th>0</th>\n      <td>85004927</td>\n      <td>OCEAN</td>\n      <td>AW</td>\n      <td>NaN</td>\n      <td>NaN</td>\n      <td>NaN</td>\n      <td>NaN</td>\n      <td>NaN</td>\n      <td>NaN</td>\n    </tr>\n    <tr>\n      <th>1</th>\n      <td>85004928</td>\n      <td>EFFICIENCY IN OPERATION</td>\n      <td>AW</td>\n      <td>NaN</td>\n      <td>NaN</td>\n      <td>NaN</td>\n      <td>NaN</td>\n      <td>NaN</td>\n      <td>NaN</td>\n    </tr>\n    <tr>\n      <th>2</th>\n      <td>85004930</td>\n      <td>ARUBA WATER SYSTEMS N.V.</td>\n      <td>AW</td>\n      <td>NaN</td>\n      <td>NaN</td>\n      <td>NaN</td>\n      <td>NaN</td>\n      <td>NaN</td>\n      <td>NaN</td>\n    </tr>\n    <tr>\n      <th>3</th>\n      <td>85008431</td>\n      <td>ESSA N.V.</td>\n      <td>AW</td>\n      <td>NaN</td>\n      <td>NaN</td>\n      <td>NaN</td>\n      <td>NaN</td>\n      <td>NaN</td>\n      <td>NaN</td>\n    </tr>\n    <tr>\n      <th>4</th>\n      <td>85008432</td>\n      <td>FIRST HOME INSURANCE SERVICES (ARUBA) N.V.</td>\n      <td>AW</td>\n      <td>NaN</td>\n      <td>NaN</td>\n      <td>NaN</td>\n      <td>NaN</td>\n      <td>NaN</td>\n      <td>NaN</td>\n    </tr>\n  </tbody>\n</table>\n</div>"
     },
     "metadata": {},
     "execution_count": 63
    }
   ],
   "source": [
    "entityDF = pd.read_csv(\"./raw-data/paradise_papers.nodes.entity.csv\")\n",
    "\n",
    "entityDF.head()"
   ]
  },
  {
   "cell_type": "code",
   "execution_count": 64,
   "metadata": {},
   "outputs": [
    {
     "output_type": "execute_result",
     "data": {
      "text/plain": [
       "        eID                                       eName jurisdictionID\n",
       "0  85004927                                       OCEAN             AW\n",
       "1  85004928                     EFFICIENCY IN OPERATION             AW\n",
       "2  85004930                    ARUBA WATER SYSTEMS N.V.             AW\n",
       "3  85008431                                   ESSA N.V.             AW\n",
       "4  85008432  FIRST HOME INSURANCE SERVICES (ARUBA) N.V.             AW"
      ],
      "text/html": "<div>\n<style scoped>\n    .dataframe tbody tr th:only-of-type {\n        vertical-align: middle;\n    }\n\n    .dataframe tbody tr th {\n        vertical-align: top;\n    }\n\n    .dataframe thead th {\n        text-align: right;\n    }\n</style>\n<table border=\"1\" class=\"dataframe\">\n  <thead>\n    <tr style=\"text-align: right;\">\n      <th></th>\n      <th>eID</th>\n      <th>eName</th>\n      <th>jurisdictionID</th>\n    </tr>\n  </thead>\n  <tbody>\n    <tr>\n      <th>0</th>\n      <td>85004927</td>\n      <td>OCEAN</td>\n      <td>AW</td>\n    </tr>\n    <tr>\n      <th>1</th>\n      <td>85004928</td>\n      <td>EFFICIENCY IN OPERATION</td>\n      <td>AW</td>\n    </tr>\n    <tr>\n      <th>2</th>\n      <td>85004930</td>\n      <td>ARUBA WATER SYSTEMS N.V.</td>\n      <td>AW</td>\n    </tr>\n    <tr>\n      <th>3</th>\n      <td>85008431</td>\n      <td>ESSA N.V.</td>\n      <td>AW</td>\n    </tr>\n    <tr>\n      <th>4</th>\n      <td>85008432</td>\n      <td>FIRST HOME INSURANCE SERVICES (ARUBA) N.V.</td>\n      <td>AW</td>\n    </tr>\n  </tbody>\n</table>\n</div>"
     },
     "metadata": {},
     "execution_count": 64
    }
   ],
   "source": [
    "entityDF = entityDF[['eID','eName','jurisdictionID']]\n",
    "\n",
    "entityDF = entityDF[entityDF['jurisdictionID'].map(len) < 4]\n",
    "\n",
    "entityDF = entityDF.dropna(axis=0, subset=['jurisdictionID'])\n",
    "\n",
    "entityDF = entityDF.dropna(axis=0, subset=['eName'])\n",
    "\n",
    "entityDF = entityDF[entityDF['eName'].map(len) < 100]\n",
    "\n",
    "entityDF.head()"
   ]
  },
  {
   "cell_type": "code",
   "execution_count": 67,
   "metadata": {},
   "outputs": [
    {
     "output_type": "execute_result",
     "data": {
      "text/plain": [
       "              eID                                 eName jurisdictionID\n",
       "15520    82023444               NAB Investments Limited             KY\n",
       "223832   55020553                   TGF ESTATES LIMITED            MLT\n",
       "260614   55058014  A & M CONSULTANCY & SERVICES LIMITED            MLT\n",
       "83361    30013879                          SULLIVAN LTD            BAH\n",
       "151050  200118473            FALCON FINANCE CORPORATION            KNA"
      ],
      "text/html": "<div>\n<style scoped>\n    .dataframe tbody tr th:only-of-type {\n        vertical-align: middle;\n    }\n\n    .dataframe tbody tr th {\n        vertical-align: top;\n    }\n\n    .dataframe thead th {\n        text-align: right;\n    }\n</style>\n<table border=\"1\" class=\"dataframe\">\n  <thead>\n    <tr style=\"text-align: right;\">\n      <th></th>\n      <th>eID</th>\n      <th>eName</th>\n      <th>jurisdictionID</th>\n    </tr>\n  </thead>\n  <tbody>\n    <tr>\n      <th>15520</th>\n      <td>82023444</td>\n      <td>NAB Investments Limited</td>\n      <td>KY</td>\n    </tr>\n    <tr>\n      <th>223832</th>\n      <td>55020553</td>\n      <td>TGF ESTATES LIMITED</td>\n      <td>MLT</td>\n    </tr>\n    <tr>\n      <th>260614</th>\n      <td>55058014</td>\n      <td>A &amp; M CONSULTANCY &amp; SERVICES LIMITED</td>\n      <td>MLT</td>\n    </tr>\n    <tr>\n      <th>83361</th>\n      <td>30013879</td>\n      <td>SULLIVAN LTD</td>\n      <td>BAH</td>\n    </tr>\n    <tr>\n      <th>151050</th>\n      <td>200118473</td>\n      <td>FALCON FINANCE CORPORATION</td>\n      <td>KNA</td>\n    </tr>\n  </tbody>\n</table>\n</div>"
     },
     "metadata": {},
     "execution_count": 67
    }
   ],
   "source": [
    "#Need to shuffle entity dataset since it is sorted with jurisdiction in alphabetical order\n",
    "\n",
    "entityDF = entityDF.sample(frac=0.2)\n",
    "\n",
    "entityDF = entityDF[entityDF.jurisdictionID != 'XX']\n",
    "\n",
    "entityDF.to_csv(r'C:\\Users\\00mon\\VSCode\\paradise-papers\\clean-data\\Entity.csv',index = False)\n",
    "\n",
    "entityDF.head()"
   ]
  },
  {
   "cell_type": "code",
   "execution_count": 55,
   "metadata": {},
   "outputs": [],
   "source": [
    "#Clean intermediary dataset\n",
    "\n",
    "interDF = pd.read_csv(\"./raw-data/paradise_papers.nodes.intermediary.csv\")\n",
    "\n",
    "interDF = interDF.dropna(axis=0, subset=['cID'])\n",
    "\n",
    "interDF = interDF[interDF['cID'].map(len) < 4]\n",
    "\n",
    "#Export clean dataset \n",
    "interDF.to_csv(r'C:\\Users\\00mon\\VSCode\\paradise-papers\\clean-data\\Intermediary.csv',index = False)\n"
   ]
  },
  {
   "cell_type": "code",
   "execution_count": 56,
   "metadata": {},
   "outputs": [
    {
     "output_type": "execute_result",
     "data": {
      "text/plain": [
       "        iID                                     iName  cID\n",
       "0  34304771               CITITRUST (BAHAMAS) LIMITED  BHS\n",
       "1  80000189         Appleby Management (Bermuda) Ltd.  BMU\n",
       "2  80000191           Appleby Services (Bermuda) Ltd.  BMU\n",
       "3  80000392  Appleby Corporate Services (BVI) Limited  VGB\n",
       "4  80007709   Appleby Corporate Services (HK) Limited  HKG"
      ],
      "text/html": "<div>\n<style scoped>\n    .dataframe tbody tr th:only-of-type {\n        vertical-align: middle;\n    }\n\n    .dataframe tbody tr th {\n        vertical-align: top;\n    }\n\n    .dataframe thead th {\n        text-align: right;\n    }\n</style>\n<table border=\"1\" class=\"dataframe\">\n  <thead>\n    <tr style=\"text-align: right;\">\n      <th></th>\n      <th>iID</th>\n      <th>iName</th>\n      <th>cID</th>\n    </tr>\n  </thead>\n  <tbody>\n    <tr>\n      <th>0</th>\n      <td>34304771</td>\n      <td>CITITRUST (BAHAMAS) LIMITED</td>\n      <td>BHS</td>\n    </tr>\n    <tr>\n      <th>1</th>\n      <td>80000189</td>\n      <td>Appleby Management (Bermuda) Ltd.</td>\n      <td>BMU</td>\n    </tr>\n    <tr>\n      <th>2</th>\n      <td>80000191</td>\n      <td>Appleby Services (Bermuda) Ltd.</td>\n      <td>BMU</td>\n    </tr>\n    <tr>\n      <th>3</th>\n      <td>80000392</td>\n      <td>Appleby Corporate Services (BVI) Limited</td>\n      <td>VGB</td>\n    </tr>\n    <tr>\n      <th>4</th>\n      <td>80007709</td>\n      <td>Appleby Corporate Services (HK) Limited</td>\n      <td>HKG</td>\n    </tr>\n  </tbody>\n</table>\n</div>"
     },
     "metadata": {},
     "execution_count": 56
    }
   ],
   "source": [
    "interDF.head()"
   ]
  },
  {
   "cell_type": "code",
   "execution_count": 57,
   "metadata": {},
   "outputs": [],
   "source": [
    "#Clean human development index dataset\n",
    "\n",
    "hdiDF = pd.read_csv(\"./raw-data/Human development index (HDI).csv\")\n",
    "\n",
    "hdiDF = hdiDF[['hdiRank','cName']]\n",
    "\n",
    "#Export clean dataset \n",
    "hdiDF.to_csv(r'C:\\Users\\00mon\\VSCode\\paradise-papers\\clean-data\\HumanDevelopment.csv',index = False)\n"
   ]
  },
  {
   "cell_type": "code",
   "execution_count": 58,
   "metadata": {},
   "outputs": [
    {
     "output_type": "execute_result",
     "data": {
      "text/plain": [
       "   hdiRank        cName\n",
       "0      170  Afghanistan\n",
       "1       69      Albania\n",
       "2       82      Algeria\n",
       "3       36      Andorra\n",
       "4      149       Angola"
      ],
      "text/html": "<div>\n<style scoped>\n    .dataframe tbody tr th:only-of-type {\n        vertical-align: middle;\n    }\n\n    .dataframe tbody tr th {\n        vertical-align: top;\n    }\n\n    .dataframe thead th {\n        text-align: right;\n    }\n</style>\n<table border=\"1\" class=\"dataframe\">\n  <thead>\n    <tr style=\"text-align: right;\">\n      <th></th>\n      <th>hdiRank</th>\n      <th>cName</th>\n    </tr>\n  </thead>\n  <tbody>\n    <tr>\n      <th>0</th>\n      <td>170</td>\n      <td>Afghanistan</td>\n    </tr>\n    <tr>\n      <th>1</th>\n      <td>69</td>\n      <td>Albania</td>\n    </tr>\n    <tr>\n      <th>2</th>\n      <td>82</td>\n      <td>Algeria</td>\n    </tr>\n    <tr>\n      <th>3</th>\n      <td>36</td>\n      <td>Andorra</td>\n    </tr>\n    <tr>\n      <th>4</th>\n      <td>149</td>\n      <td>Angola</td>\n    </tr>\n  </tbody>\n</table>\n</div>"
     },
     "metadata": {},
     "execution_count": 58
    }
   ],
   "source": [
    "hdiDF.head()"
   ]
  },
  {
   "cell_type": "code",
   "execution_count": 59,
   "metadata": {},
   "outputs": [],
   "source": [
    "corruptDF = pd.read_csv(\"./raw-data/corruption_perception.csv\")\n",
    "\n",
    "corruptDF = corruptDF[['cID','cpindex']]\n",
    "\n",
    "#Export clean dataset \n",
    "corruptDF.to_csv(r'C:\\Users\\00mon\\VSCode\\paradise-papers\\clean-data\\CorruptionPerception.csv',index = False)"
   ]
  },
  {
   "cell_type": "code",
   "execution_count": 60,
   "metadata": {},
   "outputs": [
    {
     "output_type": "execute_result",
     "data": {
      "text/plain": [
       "   cID  cpindex\n",
       "0  DNK       88\n",
       "1  NZL       87\n",
       "2  FIN       85\n",
       "3  SGP       85\n",
       "4  SWE       85"
      ],
      "text/html": "<div>\n<style scoped>\n    .dataframe tbody tr th:only-of-type {\n        vertical-align: middle;\n    }\n\n    .dataframe tbody tr th {\n        vertical-align: top;\n    }\n\n    .dataframe thead th {\n        text-align: right;\n    }\n</style>\n<table border=\"1\" class=\"dataframe\">\n  <thead>\n    <tr style=\"text-align: right;\">\n      <th></th>\n      <th>cID</th>\n      <th>cpindex</th>\n    </tr>\n  </thead>\n  <tbody>\n    <tr>\n      <th>0</th>\n      <td>DNK</td>\n      <td>88</td>\n    </tr>\n    <tr>\n      <th>1</th>\n      <td>NZL</td>\n      <td>87</td>\n    </tr>\n    <tr>\n      <th>2</th>\n      <td>FIN</td>\n      <td>85</td>\n    </tr>\n    <tr>\n      <th>3</th>\n      <td>SGP</td>\n      <td>85</td>\n    </tr>\n    <tr>\n      <th>4</th>\n      <td>SWE</td>\n      <td>85</td>\n    </tr>\n  </tbody>\n</table>\n</div>"
     },
     "metadata": {},
     "execution_count": 60
    }
   ],
   "source": [
    "corruptDF.head()"
   ]
  },
  {
   "cell_type": "code",
   "execution_count": 35,
   "metadata": {},
   "outputs": [],
   "source": [
    "#For country dataset, must merge dataset that contains population and the one that contains the ISO alpha-3 codes\n",
    "popDF = pd.read_csv(\"./raw-data/population.csv\")\n",
    "\n",
    "countryDF = pd.read_csv(\"./raw-data/country.csv\")\n",
    "\n",
    "completeCountryDF = pd.merge(countryDF, popDF, how='inner', on='cName')\n",
    "\n",
    "completeCountryDF = completeCountryDF[['cName','cID','population']]\n",
    "\n",
    "completeCountryDF.to_csv(r'C:\\Users\\00mon\\VSCode\\paradise-papers\\clean-data\\Country.csv',index = False)"
   ]
  },
  {
   "cell_type": "code",
   "execution_count": 36,
   "metadata": {},
   "outputs": [
    {
     "output_type": "execute_result",
     "data": {
      "text/plain": [
       "    cName  cID  population\n",
       "0   Aruba   AW     106.766\n",
       "1  Jersey  JEY      98.070\n",
       "2  Monaco  MCO      39.242\n",
       "3    Niue  NIU       1.626\n",
       "4   Nauru  NRU      10.824"
      ],
      "text/html": "<div>\n<style scoped>\n    .dataframe tbody tr th:only-of-type {\n        vertical-align: middle;\n    }\n\n    .dataframe tbody tr th {\n        vertical-align: top;\n    }\n\n    .dataframe thead th {\n        text-align: right;\n    }\n</style>\n<table border=\"1\" class=\"dataframe\">\n  <thead>\n    <tr style=\"text-align: right;\">\n      <th></th>\n      <th>cName</th>\n      <th>cID</th>\n      <th>population</th>\n    </tr>\n  </thead>\n  <tbody>\n    <tr>\n      <th>0</th>\n      <td>Aruba</td>\n      <td>AW</td>\n      <td>106.766</td>\n    </tr>\n    <tr>\n      <th>1</th>\n      <td>Jersey</td>\n      <td>JEY</td>\n      <td>98.070</td>\n    </tr>\n    <tr>\n      <th>2</th>\n      <td>Monaco</td>\n      <td>MCO</td>\n      <td>39.242</td>\n    </tr>\n    <tr>\n      <th>3</th>\n      <td>Niue</td>\n      <td>NIU</td>\n      <td>1.626</td>\n    </tr>\n    <tr>\n      <th>4</th>\n      <td>Nauru</td>\n      <td>NRU</td>\n      <td>10.824</td>\n    </tr>\n  </tbody>\n</table>\n</div>"
     },
     "metadata": {},
     "execution_count": 36
    }
   ],
   "source": [
    "completeCountryDF.head()"
   ]
  }
 ]
}